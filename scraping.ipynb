{
 "cells": [
  {
   "cell_type": "code",
   "execution_count": 70,
   "metadata": {
    "collapsed": false
   },
   "outputs": [],
   "source": [
    "import urllib2\n",
    "def download_zip_file(url, dl_path, extract_only_this_file=None):\n",
    "    file_ = urllib2.urlopen(url)\n",
    "    z = zipfile.ZipFile(StringIO.StringIO(file_.read()))\n",
    "    \n",
    "    if extract_only_this_file:\n",
    "        individual_file_obj = z2.NameToInfo[extract_only_this_file]\n",
    "        z.extract(individual_file_obj, dl_path)\n",
    "    else:\n",
    "        z.extractall(dl_path)\n",
    "    pass\n",
    "download_zip_file('http://files.zillowstatic.com/research/public/State.zip', '/Users/Ajay/Desktop/test')"
   ]
  },
  {
   "cell_type": "code",
   "execution_count": 69,
   "metadata": {
    "collapsed": true
   },
   "outputs": [],
   "source": [
    "import requests\n",
    "def download_zip_file_requests(url, dl_path, extract_only_this_file=None):\n",
    "    file_ = requests.get(url)\n",
    "    z = zipfile.ZipFile(StringIO.StringIO(file_.content))\n",
    "    \n",
    "    if extract_only_this_file:\n",
    "        individual_file_obj = z2.NameToInfo[extract_only_this_file]\n",
    "        z.extract(individual_file_obj, dl_path)\n",
    "    else:\n",
    "        z.extractall(dl_path)\n",
    "    pass\n",
    "download_zip_file_requests('http://files.zillowstatic.com/research/public/State.zip', '/Users/Ajay/Desktop/test')"
   ]
  },
  {
   "cell_type": "code",
   "execution_count": 22,
   "metadata": {
    "collapsed": false
   },
   "outputs": [],
   "source": [
    "from mechanize import Browser\n",
    "\n",
    "def download_zip_file_mechanize(url, dl_path_and_filename):\n",
    "    br = Browser()\n",
    "    br.open(url)\n",
    "    br.retrieve(url, dl_path_and_filename)\n",
    "    pass\n",
    "\n",
    "download_zip_file_mechanize('http://files.zillowstatic.com/research/public/State.zip', '/Users/Ajay/Documents/test.zip')"
   ]
  }
 ],
 "metadata": {
  "kernelspec": {
   "display_name": "Python 2",
   "language": "python",
   "name": "python2"
  },
  "language_info": {
   "codemirror_mode": {
    "name": "ipython",
    "version": 2
   },
   "file_extension": ".py",
   "mimetype": "text/x-python",
   "name": "python",
   "nbconvert_exporter": "python",
   "pygments_lexer": "ipython2",
   "version": "2.7.10"
  }
 },
 "nbformat": 4,
 "nbformat_minor": 0
}
